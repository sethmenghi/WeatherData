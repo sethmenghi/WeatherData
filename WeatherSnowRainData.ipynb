{
 "cells": [
  {
   "cell_type": "code",
   "execution_count": 1,
   "metadata": {
    "collapsed": true
   },
   "outputs": [],
   "source": [
    "%matplotlib inline\n",
    "from ftplib import FTP\n",
    "import tempfile\n",
    "import pandas as pd\n",
    "import numpy as np\n",
    "import re  # regex searching\n",
    "import matplotlib.pyplot as plt"
   ]
  },
  {
   "cell_type": "code",
   "execution_count": 2,
   "metadata": {
    "collapsed": false
   },
   "outputs": [
    {
     "data": {
      "text/plain": [
       "'250 CWD command successful'"
      ]
     },
     "execution_count": 2,
     "metadata": {},
     "output_type": "execute_result"
    }
   ],
   "source": [
    "ftp = FTP('ftp.ncdc.noaa.gov')\n",
    "ftp.login()\n",
    "ftp.cwd('/pub/data/normals/1981-2010/products/precipitation/')"
   ]
  },
  {
   "cell_type": "code",
   "execution_count": 3,
   "metadata": {
    "collapsed": true
   },
   "outputs": [],
   "source": [
    "DAILY_FILE_NAMING = 'dly-*-pctall-*.txt'\n",
    "DAILY_COLUMNS = [('%d' % i) for i in xrange(1,32)]\n",
    "DAILY_COLUMNS.insert(0, 'MONTH')\n",
    "DAILY_COLUMNS.insert(0, 'STNID')"
   ]
  },
  {
   "cell_type": "code",
   "execution_count": 4,
   "metadata": {
    "collapsed": true
   },
   "outputs": [],
   "source": [
    "NON_NUMERIC_REGEX = re.compile(r'[^\\d.]+')\n",
    "SPECIAL_VALUES = ['-7777', '-8888', '-9999', '-6666', '-5555']  # columns that represent a specific type of NULL data\n",
    "def process_value_column(string):\n",
    "    if string in SPECIAL_VALUES:\n",
    "        return np.nan\n",
    "    deg = NON_NUMERIC_REGEX.sub('', string)\n",
    "    deg = float(deg[-3:-1] + '.' + deg[-1])        \n",
    "    return float(deg)  # return Flag as well."
   ]
  },
  {
   "cell_type": "code",
   "execution_count": 5,
   "metadata": {
    "collapsed": true
   },
   "outputs": [],
   "source": [
    "def process_dataframe(df, value):\n",
    "    \"\"\"Process dataframe, setting indexes, etc.\"\"\"\n",
    "    value = value.upper()\n",
    "    df = pd.melt(df, id_vars=['STNID', 'MONTH'], var_name='DAY', value_name=value)\n",
    "    df[value + '_FLAG'] = df[value].map(lambda s: s[-1])\n",
    "    df[value] = df[value].apply(process_value_column)\n",
    "    df['DAY'] = df['DAY'].apply(int)\n",
    "    df['MONTH'] = df['MONTH'].apply(int)\n",
    "    df = df.sort_values(['STNID','MONTH', 'DAY'])\n",
    "    df = df.set_index(['STNID', 'MONTH', 'DAY'])\n",
    "    return df"
   ]
  },
  {
   "cell_type": "code",
   "execution_count": 6,
   "metadata": {
    "collapsed": true
   },
   "outputs": [],
   "source": [
    "def parse_file(filename, columns):\n",
    "    \"\"\"Parse a daily weather file.\"\"\"\n",
    "    tempf = tempfile.mktemp()\n",
    "    ftp.retrbinary('RETR %s' % filename, open(tempf, 'wb').write)\n",
    "    df = pd.read_fwf(open(tempf, 'r'), header=None, names=columns, index_col=None)\n",
    "    value = re.search(r'dly-(.*)-(.*).txt', filename)\n",
    "    value = value.group(1) + '_' + value.group(2)\n",
    "    return process_dataframe(df, value)"
   ]
  },
  {
   "cell_type": "code",
   "execution_count": 7,
   "metadata": {
    "collapsed": false
   },
   "outputs": [
    {
     "name": "stdout",
     "output_type": "stream",
     "text": [
      "Filetype: snwd-pctall\n",
      "Filetype: snwd-pctall\n",
      "Filetype: snwd-pctall\n",
      "Filetype: snwd-pctall\n",
      "Filetype: snow-pctall\n",
      "Filetype: snow-pctall\n",
      "Filetype: snow-pctall\n",
      "Filetype: snow-pctall\n",
      "Filetype: snow-pctall\n",
      "Filetype: prcp-pctall\n",
      "Filetype: prcp-pctall\n",
      "Filetype: prcp-pctall\n",
      "Filetype: prcp-pctall\n"
     ]
    }
   ],
   "source": [
    "# Downloading list of stations\n",
    "# df = pd.DataFrame(columns=DAILY_COLUMNS)\n",
    "dfs = []\n",
    "for filename in ftp.nlst(DAILY_FILE_NAMING):\n",
    "    filetype = re.search(r'dly-(.*)-(.*).txt', filename).group(1)\n",
    "    print('Filetype: %s' % filetype)\n",
    "    df = parse_file(filename, DAILY_COLUMNS)\n",
    "    dfs.append(df)"
   ]
  },
  {
   "cell_type": "code",
   "execution_count": 8,
   "metadata": {
    "collapsed": true
   },
   "outputs": [],
   "source": [
    "# Combines list of DataFrames into one\n",
    "data = pd.concat(dfs, axis=1)"
   ]
  },
  {
   "cell_type": "code",
   "execution_count": 9,
   "metadata": {
    "collapsed": false
   },
   "outputs": [
    {
     "data": {
      "text/html": [
       "<div>\n",
       "<table border=\"1\" class=\"dataframe\">\n",
       "  <thead>\n",
       "    <tr style=\"text-align: right;\">\n",
       "      <th></th>\n",
       "      <th></th>\n",
       "      <th></th>\n",
       "      <th>SNWD-PCTALL_GE010WI</th>\n",
       "      <th>SNWD-PCTALL_GE010WI_FLAG</th>\n",
       "      <th>SNWD-PCTALL_GE005WI</th>\n",
       "      <th>SNWD-PCTALL_GE005WI_FLAG</th>\n",
       "      <th>SNWD-PCTALL_GE003WI</th>\n",
       "      <th>SNWD-PCTALL_GE003WI_FLAG</th>\n",
       "      <th>SNWD-PCTALL_GE001WI</th>\n",
       "      <th>SNWD-PCTALL_GE001WI_FLAG</th>\n",
       "      <th>SNOW-PCTALL_GE100TI</th>\n",
       "      <th>SNOW-PCTALL_GE100TI_FLAG</th>\n",
       "      <th>...</th>\n",
       "      <th>SNOW-PCTALL_GE001TI</th>\n",
       "      <th>SNOW-PCTALL_GE001TI_FLAG</th>\n",
       "      <th>PRCP-PCTALL_GE100HI</th>\n",
       "      <th>PRCP-PCTALL_GE100HI_FLAG</th>\n",
       "      <th>PRCP-PCTALL_GE050HI</th>\n",
       "      <th>PRCP-PCTALL_GE050HI_FLAG</th>\n",
       "      <th>PRCP-PCTALL_GE010HI</th>\n",
       "      <th>PRCP-PCTALL_GE010HI_FLAG</th>\n",
       "      <th>PRCP-PCTALL_GE001HI</th>\n",
       "      <th>PRCP-PCTALL_GE001HI_FLAG</th>\n",
       "    </tr>\n",
       "    <tr>\n",
       "      <th>STNID</th>\n",
       "      <th>MONTH</th>\n",
       "      <th>DAY</th>\n",
       "      <th></th>\n",
       "      <th></th>\n",
       "      <th></th>\n",
       "      <th></th>\n",
       "      <th></th>\n",
       "      <th></th>\n",
       "      <th></th>\n",
       "      <th></th>\n",
       "      <th></th>\n",
       "      <th></th>\n",
       "      <th></th>\n",
       "      <th></th>\n",
       "      <th></th>\n",
       "      <th></th>\n",
       "      <th></th>\n",
       "      <th></th>\n",
       "      <th></th>\n",
       "      <th></th>\n",
       "      <th></th>\n",
       "      <th></th>\n",
       "      <th></th>\n",
       "    </tr>\n",
       "  </thead>\n",
       "  <tbody>\n",
       "    <tr>\n",
       "      <th rowspan=\"5\" valign=\"top\">AQC00914000</th>\n",
       "      <th rowspan=\"5\" valign=\"top\">1</th>\n",
       "      <th>1</th>\n",
       "      <td>0.0</td>\n",
       "      <td>P</td>\n",
       "      <td>0.0</td>\n",
       "      <td>P</td>\n",
       "      <td>0.0</td>\n",
       "      <td>P</td>\n",
       "      <td>0.0</td>\n",
       "      <td>P</td>\n",
       "      <td>0.0</td>\n",
       "      <td>P</td>\n",
       "      <td>...</td>\n",
       "      <td>0.0</td>\n",
       "      <td>P</td>\n",
       "      <td>21.9</td>\n",
       "      <td>P</td>\n",
       "      <td>38.2</td>\n",
       "      <td>P</td>\n",
       "      <td>58.8</td>\n",
       "      <td>P</td>\n",
       "      <td>64.5</td>\n",
       "      <td>P</td>\n",
       "    </tr>\n",
       "    <tr>\n",
       "      <th>2</th>\n",
       "      <td>0.0</td>\n",
       "      <td>P</td>\n",
       "      <td>0.0</td>\n",
       "      <td>P</td>\n",
       "      <td>0.0</td>\n",
       "      <td>P</td>\n",
       "      <td>0.0</td>\n",
       "      <td>P</td>\n",
       "      <td>0.0</td>\n",
       "      <td>P</td>\n",
       "      <td>...</td>\n",
       "      <td>0.0</td>\n",
       "      <td>P</td>\n",
       "      <td>21.9</td>\n",
       "      <td>P</td>\n",
       "      <td>38.2</td>\n",
       "      <td>P</td>\n",
       "      <td>58.9</td>\n",
       "      <td>P</td>\n",
       "      <td>64.5</td>\n",
       "      <td>P</td>\n",
       "    </tr>\n",
       "    <tr>\n",
       "      <th>3</th>\n",
       "      <td>0.0</td>\n",
       "      <td>P</td>\n",
       "      <td>0.0</td>\n",
       "      <td>P</td>\n",
       "      <td>0.0</td>\n",
       "      <td>P</td>\n",
       "      <td>0.0</td>\n",
       "      <td>P</td>\n",
       "      <td>0.0</td>\n",
       "      <td>P</td>\n",
       "      <td>...</td>\n",
       "      <td>0.0</td>\n",
       "      <td>P</td>\n",
       "      <td>21.9</td>\n",
       "      <td>P</td>\n",
       "      <td>38.2</td>\n",
       "      <td>P</td>\n",
       "      <td>59.1</td>\n",
       "      <td>P</td>\n",
       "      <td>64.5</td>\n",
       "      <td>P</td>\n",
       "    </tr>\n",
       "    <tr>\n",
       "      <th>4</th>\n",
       "      <td>0.0</td>\n",
       "      <td>P</td>\n",
       "      <td>0.0</td>\n",
       "      <td>P</td>\n",
       "      <td>0.0</td>\n",
       "      <td>P</td>\n",
       "      <td>0.0</td>\n",
       "      <td>P</td>\n",
       "      <td>0.0</td>\n",
       "      <td>P</td>\n",
       "      <td>...</td>\n",
       "      <td>0.0</td>\n",
       "      <td>P</td>\n",
       "      <td>21.9</td>\n",
       "      <td>P</td>\n",
       "      <td>38.2</td>\n",
       "      <td>P</td>\n",
       "      <td>59.2</td>\n",
       "      <td>P</td>\n",
       "      <td>64.5</td>\n",
       "      <td>P</td>\n",
       "    </tr>\n",
       "    <tr>\n",
       "      <th>5</th>\n",
       "      <td>0.0</td>\n",
       "      <td>P</td>\n",
       "      <td>0.0</td>\n",
       "      <td>P</td>\n",
       "      <td>0.0</td>\n",
       "      <td>P</td>\n",
       "      <td>0.0</td>\n",
       "      <td>P</td>\n",
       "      <td>0.0</td>\n",
       "      <td>P</td>\n",
       "      <td>...</td>\n",
       "      <td>0.0</td>\n",
       "      <td>P</td>\n",
       "      <td>21.8</td>\n",
       "      <td>P</td>\n",
       "      <td>38.2</td>\n",
       "      <td>P</td>\n",
       "      <td>59.3</td>\n",
       "      <td>P</td>\n",
       "      <td>64.6</td>\n",
       "      <td>P</td>\n",
       "    </tr>\n",
       "  </tbody>\n",
       "</table>\n",
       "<p>5 rows × 26 columns</p>\n",
       "</div>"
      ],
      "text/plain": [
       "                       SNWD-PCTALL_GE010WI SNWD-PCTALL_GE010WI_FLAG  \\\n",
       "STNID       MONTH DAY                                                 \n",
       "AQC00914000 1     1                    0.0                        P   \n",
       "                  2                    0.0                        P   \n",
       "                  3                    0.0                        P   \n",
       "                  4                    0.0                        P   \n",
       "                  5                    0.0                        P   \n",
       "\n",
       "                       SNWD-PCTALL_GE005WI SNWD-PCTALL_GE005WI_FLAG  \\\n",
       "STNID       MONTH DAY                                                 \n",
       "AQC00914000 1     1                    0.0                        P   \n",
       "                  2                    0.0                        P   \n",
       "                  3                    0.0                        P   \n",
       "                  4                    0.0                        P   \n",
       "                  5                    0.0                        P   \n",
       "\n",
       "                       SNWD-PCTALL_GE003WI SNWD-PCTALL_GE003WI_FLAG  \\\n",
       "STNID       MONTH DAY                                                 \n",
       "AQC00914000 1     1                    0.0                        P   \n",
       "                  2                    0.0                        P   \n",
       "                  3                    0.0                        P   \n",
       "                  4                    0.0                        P   \n",
       "                  5                    0.0                        P   \n",
       "\n",
       "                       SNWD-PCTALL_GE001WI SNWD-PCTALL_GE001WI_FLAG  \\\n",
       "STNID       MONTH DAY                                                 \n",
       "AQC00914000 1     1                    0.0                        P   \n",
       "                  2                    0.0                        P   \n",
       "                  3                    0.0                        P   \n",
       "                  4                    0.0                        P   \n",
       "                  5                    0.0                        P   \n",
       "\n",
       "                       SNOW-PCTALL_GE100TI SNOW-PCTALL_GE100TI_FLAG  \\\n",
       "STNID       MONTH DAY                                                 \n",
       "AQC00914000 1     1                    0.0                        P   \n",
       "                  2                    0.0                        P   \n",
       "                  3                    0.0                        P   \n",
       "                  4                    0.0                        P   \n",
       "                  5                    0.0                        P   \n",
       "\n",
       "                                ...             SNOW-PCTALL_GE001TI  \\\n",
       "STNID       MONTH DAY           ...                                   \n",
       "AQC00914000 1     1             ...                             0.0   \n",
       "                  2             ...                             0.0   \n",
       "                  3             ...                             0.0   \n",
       "                  4             ...                             0.0   \n",
       "                  5             ...                             0.0   \n",
       "\n",
       "                      SNOW-PCTALL_GE001TI_FLAG  PRCP-PCTALL_GE100HI  \\\n",
       "STNID       MONTH DAY                                                 \n",
       "AQC00914000 1     1                          P                 21.9   \n",
       "                  2                          P                 21.9   \n",
       "                  3                          P                 21.9   \n",
       "                  4                          P                 21.9   \n",
       "                  5                          P                 21.8   \n",
       "\n",
       "                      PRCP-PCTALL_GE100HI_FLAG  PRCP-PCTALL_GE050HI  \\\n",
       "STNID       MONTH DAY                                                 \n",
       "AQC00914000 1     1                          P                 38.2   \n",
       "                  2                          P                 38.2   \n",
       "                  3                          P                 38.2   \n",
       "                  4                          P                 38.2   \n",
       "                  5                          P                 38.2   \n",
       "\n",
       "                      PRCP-PCTALL_GE050HI_FLAG  PRCP-PCTALL_GE010HI  \\\n",
       "STNID       MONTH DAY                                                 \n",
       "AQC00914000 1     1                          P                 58.8   \n",
       "                  2                          P                 58.9   \n",
       "                  3                          P                 59.1   \n",
       "                  4                          P                 59.2   \n",
       "                  5                          P                 59.3   \n",
       "\n",
       "                      PRCP-PCTALL_GE010HI_FLAG  PRCP-PCTALL_GE001HI  \\\n",
       "STNID       MONTH DAY                                                 \n",
       "AQC00914000 1     1                          P                 64.5   \n",
       "                  2                          P                 64.5   \n",
       "                  3                          P                 64.5   \n",
       "                  4                          P                 64.5   \n",
       "                  5                          P                 64.6   \n",
       "\n",
       "                      PRCP-PCTALL_GE001HI_FLAG  \n",
       "STNID       MONTH DAY                           \n",
       "AQC00914000 1     1                          P  \n",
       "                  2                          P  \n",
       "                  3                          P  \n",
       "                  4                          P  \n",
       "                  5                          P  \n",
       "\n",
       "[5 rows x 26 columns]"
      ]
     },
     "execution_count": 9,
     "metadata": {},
     "output_type": "execute_result"
    }
   ],
   "source": [
    "data.head()"
   ]
  },
  {
   "cell_type": "code",
   "execution_count": 10,
   "metadata": {
    "collapsed": false
   },
   "outputs": [
    {
     "ename": "ImportError",
     "evalue": "No module named pyhs2",
     "output_type": "error",
     "traceback": [
      "\u001b[0;31m---------------------------------------------------------------------------\u001b[0m",
      "\u001b[0;31mImportError\u001b[0m                               Traceback (most recent call last)",
      "\u001b[0;32m<ipython-input-10-269bf923fddc>\u001b[0m in \u001b[0;36m<module>\u001b[0;34m()\u001b[0m\n\u001b[0;32m----> 1\u001b[0;31m \u001b[0;32mimport\u001b[0m \u001b[0mpyhs2\u001b[0m\u001b[0;34m\u001b[0m\u001b[0m\n\u001b[0m",
      "\u001b[0;31mImportError\u001b[0m: No module named pyhs2"
     ]
    }
   ],
   "source": [
    "import pyhs2"
   ]
  },
  {
   "cell_type": "code",
   "execution_count": 23,
   "metadata": {
    "collapsed": true
   },
   "outputs": [
    {
     "ename": "AttributeError",
     "evalue": "'SQLContext' object has no attribute 'toDF'",
     "output_type": "error",
     "traceback": [
      "\u001b[0;31m---------------------------------------------------------------------------\u001b[0m",
      "\u001b[0;31mAttributeError\u001b[0m                            Traceback (most recent call last)",
      "\u001b[0;32m<ipython-input-23-3d6f807e426e>\u001b[0m in \u001b[0;36m<module>\u001b[0;34m()\u001b[0m\n\u001b[0;32m----> 1\u001b[0;31m \u001b[0mscdf\u001b[0m\u001b[0;34m.\u001b[0m\u001b[0mtoDF\u001b[0m\u001b[0;34m(\u001b[0m\u001b[0;34m)\u001b[0m\u001b[0;34m\u001b[0m\u001b[0m\n\u001b[0m",
      "\u001b[0;31mAttributeError\u001b[0m: 'SQLContext' object has no attribute 'toDF'"
     ]
    }
   ],
   "source": [
    "conn = pyhs2.connect(host='localhost', port=10000,authMechanism=None, user=\"hive\", password=None,database='hive')"
   ]
  },
  {
   "cell_type": "code",
   "execution_count": null,
   "metadata": {
    "collapsed": true
   },
   "outputs": [],
   "source": [
    "data.to_sql(\"weather_snow_rain\", con=conn)"
   ]
  }
 ],
 "metadata": {
  "kernelspec": {
   "display_name": "Python 2",
   "language": "python",
   "name": "python2"
  },
  "language_info": {
   "codemirror_mode": {
    "name": "ipython",
    "version": 2
   },
   "file_extension": ".py",
   "mimetype": "text/x-python",
   "name": "python",
   "nbconvert_exporter": "python",
   "pygments_lexer": "ipython2",
   "version": "2.7.8"
  }
 },
 "nbformat": 4,
 "nbformat_minor": 1
}
