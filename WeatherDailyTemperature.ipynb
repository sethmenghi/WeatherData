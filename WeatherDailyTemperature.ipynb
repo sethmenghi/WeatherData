{
 "cells": [
  {
   "cell_type": "code",
   "execution_count": 1,
   "metadata": {
    "collapsed": true
   },
   "outputs": [],
   "source": [
    "%matplotlib inline\n",
    "from ftplib import FTP\n",
    "import tempfile\n",
    "import pandas as pd\n",
    "import numpy as np\n",
    "import re  # regex searching\n",
    "import matplotlib.pyplot as plt"
   ]
  },
  {
   "cell_type": "code",
   "execution_count": 2,
   "metadata": {
    "collapsed": false
   },
   "outputs": [
    {
     "data": {
      "text/plain": [
       "'250 CWD command successful'"
      ]
     },
     "execution_count": 2,
     "metadata": {},
     "output_type": "execute_result"
    }
   ],
   "source": [
    "ftp = FTP('ftp.ncdc.noaa.gov')\n",
    "ftp.login()\n",
    "ftp.cwd('/pub/data/normals/1981-2010/products/temperature/')"
   ]
  },
  {
   "cell_type": "code",
   "execution_count": 3,
   "metadata": {
    "collapsed": false
   },
   "outputs": [],
   "source": [
    "DAILY_FILE_NAMING = 'dly-*-normal.txt'\n",
    "DAILY_COLUMNS = [('%d' % i) for i in xrange(1,32)]\n",
    "DAILY_COLUMNS.insert(0, 'MONTH')\n",
    "DAILY_COLUMNS.insert(0, 'STNID')"
   ]
  },
  {
   "cell_type": "code",
   "execution_count": 4,
   "metadata": {
    "collapsed": true
   },
   "outputs": [],
   "source": [
    "NON_NUMERIC_REGEX = re.compile(r'[^\\d.]+')\n",
    "SPECIAL_VALUES = ['-7777', '-8888', '-9999', '-6666', '-5555']  # columns that represent a specific type of NULL data\n",
    "def process_value_column(string):\n",
    "    if string in SPECIAL_VALUES:\n",
    "        return np.nan\n",
    "    deg = NON_NUMERIC_REGEX.sub('', string)\n",
    "    deg = float(deg[-3:-1] + '.' + deg[-1])        \n",
    "    return float(deg)  # return Flag as well."
   ]
  },
  {
   "cell_type": "code",
   "execution_count": 5,
   "metadata": {
    "collapsed": false
   },
   "outputs": [],
   "source": [
    "def process_dataframe(df, value):\n",
    "    \"\"\"Process dataframe, setting indexes, etc.\"\"\"\n",
    "    value = value.upper()\n",
    "    df = pd.melt(df, id_vars=['STNID', 'MONTH'], var_name='DAY', value_name=value)\n",
    "    df[value + '_FLAG'] = df[value].map(lambda s: s[-1])\n",
    "    df[value] = df[value].apply(process_value_column)\n",
    "    df['DAY'] = df['DAY'].apply(int)\n",
    "    df['MONTH'] = df['MONTH'].apply(int)\n",
    "    df = df.sort_values(['STNID','MONTH', 'DAY'])\n",
    "    df = df.set_index(['STNID', 'MONTH', 'DAY'])\n",
    "    return df"
   ]
  },
  {
   "cell_type": "code",
   "execution_count": 6,
   "metadata": {
    "collapsed": true
   },
   "outputs": [],
   "source": [
    "def parse_file(filename, columns):\n",
    "    \"\"\"Parse a daily weather file.\"\"\"\n",
    "    tempf = tempfile.mktemp()\n",
    "    ftp.retrbinary('RETR %s' % filename, open(tempf, 'wb').write)\n",
    "    df = pd.read_fwf(open(tempf, 'r'), header=None, names=columns, index_col=None)\n",
    "    value = re.search(r'dly-(.*)-normal.txt', filename).group(1)\n",
    "    return process_dataframe(df, value)"
   ]
  },
  {
   "cell_type": "code",
   "execution_count": 7,
   "metadata": {
    "collapsed": false
   },
   "outputs": [],
   "source": [
    "# Downloading list of stations\n",
    "# df = pd.DataFrame(columns=DAILY_COLUMNS)\n",
    "dfs = []\n",
    "for filename in ftp.nlst(DAILY_FILE_NAMING):\n",
    "    filetype = re.search(r'dly-(.*)-normal.txt', filename).group(1)\n",
    "    # print('Filetype: %s' % filetype)\n",
    "    df = parse_file(filename, DAILY_COLUMNS)\n",
    "    dfs.append(df)"
   ]
  },
  {
   "cell_type": "code",
   "execution_count": 11,
   "metadata": {
    "collapsed": false
   },
   "outputs": [],
   "source": [
    "# Combines list of DataFrames into one\n",
    "data = pd.concat(dfs, axis=1)"
   ]
  },
  {
   "cell_type": "code",
   "execution_count": 23,
   "metadata": {
    "collapsed": false
   },
   "outputs": [
    {
     "data": {
      "text/html": [
       "<div>\n",
       "<table border=\"1\" class=\"dataframe\">\n",
       "  <thead>\n",
       "    <tr style=\"text-align: right;\">\n",
       "      <th></th>\n",
       "      <th>STNID</th>\n",
       "      <th>MONTH</th>\n",
       "      <th>DAY</th>\n",
       "      <th>TMIN</th>\n",
       "      <th>TMIN_FLAG</th>\n",
       "      <th>TMAX</th>\n",
       "      <th>TMAX_FLAG</th>\n",
       "      <th>TAVG</th>\n",
       "      <th>TAVG_FLAG</th>\n",
       "      <th>HTDD</th>\n",
       "      <th>HTDD_FLAG</th>\n",
       "      <th>DUTR</th>\n",
       "      <th>DUTR_FLAG</th>\n",
       "      <th>CLDD</th>\n",
       "      <th>CLDD_FLAG</th>\n",
       "    </tr>\n",
       "  </thead>\n",
       "  <tbody>\n",
       "    <tr>\n",
       "      <th>0</th>\n",
       "      <td>AQW00061705</td>\n",
       "      <td>1</td>\n",
       "      <td>1</td>\n",
       "      <td>77.2</td>\n",
       "      <td>C</td>\n",
       "      <td>87.5</td>\n",
       "      <td>C</td>\n",
       "      <td>82.4</td>\n",
       "      <td>C</td>\n",
       "      <td>0.0</td>\n",
       "      <td>C</td>\n",
       "      <td>10.3</td>\n",
       "      <td>C</td>\n",
       "      <td>1.7</td>\n",
       "      <td>C</td>\n",
       "    </tr>\n",
       "    <tr>\n",
       "      <th>1</th>\n",
       "      <td>AQW00061705</td>\n",
       "      <td>1</td>\n",
       "      <td>2</td>\n",
       "      <td>77.2</td>\n",
       "      <td>C</td>\n",
       "      <td>87.5</td>\n",
       "      <td>C</td>\n",
       "      <td>82.4</td>\n",
       "      <td>C</td>\n",
       "      <td>0.0</td>\n",
       "      <td>C</td>\n",
       "      <td>10.3</td>\n",
       "      <td>C</td>\n",
       "      <td>1.7</td>\n",
       "      <td>C</td>\n",
       "    </tr>\n",
       "    <tr>\n",
       "      <th>2</th>\n",
       "      <td>AQW00061705</td>\n",
       "      <td>1</td>\n",
       "      <td>3</td>\n",
       "      <td>77.2</td>\n",
       "      <td>C</td>\n",
       "      <td>87.5</td>\n",
       "      <td>C</td>\n",
       "      <td>82.4</td>\n",
       "      <td>C</td>\n",
       "      <td>0.0</td>\n",
       "      <td>C</td>\n",
       "      <td>10.3</td>\n",
       "      <td>C</td>\n",
       "      <td>1.7</td>\n",
       "      <td>C</td>\n",
       "    </tr>\n",
       "    <tr>\n",
       "      <th>3</th>\n",
       "      <td>AQW00061705</td>\n",
       "      <td>1</td>\n",
       "      <td>4</td>\n",
       "      <td>77.2</td>\n",
       "      <td>C</td>\n",
       "      <td>87.5</td>\n",
       "      <td>C</td>\n",
       "      <td>82.4</td>\n",
       "      <td>C</td>\n",
       "      <td>0.0</td>\n",
       "      <td>C</td>\n",
       "      <td>10.3</td>\n",
       "      <td>C</td>\n",
       "      <td>1.7</td>\n",
       "      <td>C</td>\n",
       "    </tr>\n",
       "    <tr>\n",
       "      <th>4</th>\n",
       "      <td>AQW00061705</td>\n",
       "      <td>1</td>\n",
       "      <td>5</td>\n",
       "      <td>77.2</td>\n",
       "      <td>C</td>\n",
       "      <td>87.5</td>\n",
       "      <td>C</td>\n",
       "      <td>82.4</td>\n",
       "      <td>C</td>\n",
       "      <td>0.0</td>\n",
       "      <td>C</td>\n",
       "      <td>10.3</td>\n",
       "      <td>C</td>\n",
       "      <td>1.7</td>\n",
       "      <td>C</td>\n",
       "    </tr>\n",
       "  </tbody>\n",
       "</table>\n",
       "</div>"
      ],
      "text/plain": [
       "         STNID  MONTH  DAY  TMIN TMIN_FLAG  TMAX TMAX_FLAG  TAVG TAVG_FLAG  \\\n",
       "0  AQW00061705      1    1  77.2         C  87.5         C  82.4         C   \n",
       "1  AQW00061705      1    2  77.2         C  87.5         C  82.4         C   \n",
       "2  AQW00061705      1    3  77.2         C  87.5         C  82.4         C   \n",
       "3  AQW00061705      1    4  77.2         C  87.5         C  82.4         C   \n",
       "4  AQW00061705      1    5  77.2         C  87.5         C  82.4         C   \n",
       "\n",
       "   HTDD HTDD_FLAG  DUTR DUTR_FLAG  CLDD CLDD_FLAG  \n",
       "0   0.0         C  10.3         C   1.7         C  \n",
       "1   0.0         C  10.3         C   1.7         C  \n",
       "2   0.0         C  10.3         C   1.7         C  \n",
       "3   0.0         C  10.3         C   1.7         C  \n",
       "4   0.0         C  10.3         C   1.7         C  "
      ]
     },
     "execution_count": 23,
     "metadata": {},
     "output_type": "execute_result"
    }
   ],
   "source": [
    "data.head()"
   ]
  },
  {
   "cell_type": "code",
   "execution_count": 21,
   "metadata": {
    "collapsed": false
   },
   "outputs": [
    {
     "data": {
      "text/plain": [
       "<matplotlib.axes._subplots.AxesSubplot at 0x7fc4cffed150>"
      ]
     },
     "execution_count": 21,
     "metadata": {},
     "output_type": "execute_result"
    },
    {
     "data": {
      "image/png": "[encoded data removed]",
      "text/plain": [
       "<matplotlib.figure.Figure at 0x7fc4c6d83b90>"
      ]
     },
     "metadata": {},
     "output_type": "display_data"
    }
   ],
   "source": [
    "data = data.reset_index(drop=False)\n",
    "data[data['STNID'] == 'USC00068138'].set_index(['MONTH', 'DAY'])[['TMIN', 'TMAX', 'TAVG']].plot()"
   ]
  }
 ],
 "metadata": {
  "kernelspec": {
   "display_name": "Python 2",
   "language": "python",
   "name": "python2"
  },
  "language_info": {
   "codemirror_mode": {
    "name": "ipython",
    "version": 2
   },
   "file_extension": ".py",
   "mimetype": "text/x-python",
   "name": "python",
   "nbconvert_exporter": "python",
   "pygments_lexer": "ipython2",
   "version": "2.7.8"
  }
 },
 "nbformat": 4,
 "nbformat_minor": 1
}
