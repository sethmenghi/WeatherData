{
 "cells": [
  {
   "cell_type": "code",
   "execution_count": 1,
   "metadata": {
    "collapsed": true
   },
   "outputs": [],
   "source": [
    "from ftplib import FTP  # Connect to weather FTP server\n",
    "import tempfile  # Temporary file to store unprocessed ftp file\n",
    "import pandas as pd  # Reads the fixed width file into a pandas.DataFrame"
   ]
  },
  {
   "cell_type": "code",
   "execution_count": 2,
   "metadata": {
    "collapsed": false
   },
   "outputs": [
    {
     "data": {
      "text/plain": [
       "'250 CWD command successful'"
      ]
     },
     "execution_count": 2,
     "metadata": {},
     "output_type": "execute_result"
    }
   ],
   "source": [
    "ftp = FTP('ftp.ncdc.noaa.gov')\n",
    "ftp.login()\n",
    "ftp.cwd('/pub/data/normals/1981-2010/station-inventories')"
   ]
  },
  {
   "cell_type": "code",
   "execution_count": 3,
   "metadata": {
    "collapsed": true
   },
   "outputs": [],
   "source": [
    "def parse_file(filename, columns):\n",
    "    \"\"\"Write to a temporary file and read using a pandas.DataFrame.\"\"\"\n",
    "    # Create a temporary file\n",
    "    tempf = tempfile.mktemp()\n",
    "    # Write to `tempf` from the FTP server\n",
    "    ftp.retrbinary('RETR %s' % filename, open(tempf, 'wb').write)\n",
    "    # Read `tempf` as a fwf (fixed-width file)\n",
    "    df = pd.read_fwf(open(tempf, 'r'), header=None, names=columns, index_col=0)\n",
    "    return df"
   ]
  },
  {
   "cell_type": "code",
   "execution_count": 4,
   "metadata": {
    "collapsed": false
   },
   "outputs": [],
   "source": [
    "# Downloading list of stations\n",
    "STATION_FILE = 'allstations.txt'\n",
    "STATION_COLUMNS = ['ID', 'LATITUDE', 'LONGITUDE', 'ELEVATION', 'STATE', 'NAME', 'GSNFLAG', 'HCNFLAG', 'WMOID']\n",
    "for filename in ftp.nlst(STATION_FILE):\n",
    "    station_df = parse_file(filename, STATION_COLUMNS)"
   ]
  },
  {
   "cell_type": "code",
   "execution_count": 5,
   "metadata": {
    "collapsed": false
   },
   "outputs": [
    {
     "data": {
      "text/html": [
       "<div>\n",
       "<table border=\"1\" class=\"dataframe\">\n",
       "  <thead>\n",
       "    <tr style=\"text-align: right;\">\n",
       "      <th></th>\n",
       "      <th>LATITUDE</th>\n",
       "      <th>LONGITUDE</th>\n",
       "      <th>ELEVATION</th>\n",
       "      <th>STATE</th>\n",
       "      <th>NAME</th>\n",
       "      <th>GSNFLAG</th>\n",
       "      <th>HCNFLAG</th>\n",
       "      <th>WMOID</th>\n",
       "    </tr>\n",
       "    <tr>\n",
       "      <th>ID</th>\n",
       "      <th></th>\n",
       "      <th></th>\n",
       "      <th></th>\n",
       "      <th></th>\n",
       "      <th></th>\n",
       "      <th></th>\n",
       "      <th></th>\n",
       "      <th></th>\n",
       "    </tr>\n",
       "  </thead>\n",
       "  <tbody>\n",
       "    <tr>\n",
       "      <th>AQC00914000</th>\n",
       "      <td>-14.3167</td>\n",
       "      <td>-170.7667</td>\n",
       "      <td>408.4</td>\n",
       "      <td>AS</td>\n",
       "      <td>AASUFOU</td>\n",
       "      <td>NaN</td>\n",
       "      <td>NaN</td>\n",
       "      <td>NaN</td>\n",
       "    </tr>\n",
       "    <tr>\n",
       "      <th>AQW00061705</th>\n",
       "      <td>-14.3306</td>\n",
       "      <td>-170.7136</td>\n",
       "      <td>3.7</td>\n",
       "      <td>AS</td>\n",
       "      <td>PAGO PAGO WSO AP</td>\n",
       "      <td>NaN</td>\n",
       "      <td>GSN</td>\n",
       "      <td>91765.0</td>\n",
       "    </tr>\n",
       "    <tr>\n",
       "      <th>CAW00064757</th>\n",
       "      <td>44.2325</td>\n",
       "      <td>-79.7811</td>\n",
       "      <td>246.0</td>\n",
       "      <td>ON</td>\n",
       "      <td>EGBERT 1 W</td>\n",
       "      <td>NaN</td>\n",
       "      <td>NaN</td>\n",
       "      <td>NaN</td>\n",
       "    </tr>\n",
       "    <tr>\n",
       "      <th>CQC00914080</th>\n",
       "      <td>15.2136</td>\n",
       "      <td>145.7497</td>\n",
       "      <td>252.1</td>\n",
       "      <td>MP</td>\n",
       "      <td>CAPITOL HILL 1</td>\n",
       "      <td>NaN</td>\n",
       "      <td>NaN</td>\n",
       "      <td>NaN</td>\n",
       "    </tr>\n",
       "    <tr>\n",
       "      <th>CQC00914801</th>\n",
       "      <td>14.1717</td>\n",
       "      <td>145.2428</td>\n",
       "      <td>179.2</td>\n",
       "      <td>MP</td>\n",
       "      <td>ROTA AP</td>\n",
       "      <td>NaN</td>\n",
       "      <td>NaN</td>\n",
       "      <td>91221.0</td>\n",
       "    </tr>\n",
       "  </tbody>\n",
       "</table>\n",
       "</div>"
      ],
      "text/plain": [
       "             LATITUDE  LONGITUDE  ELEVATION STATE              NAME GSNFLAG  \\\n",
       "ID                                                                            \n",
       "AQC00914000  -14.3167  -170.7667      408.4    AS           AASUFOU     NaN   \n",
       "AQW00061705  -14.3306  -170.7136        3.7    AS  PAGO PAGO WSO AP     NaN   \n",
       "CAW00064757   44.2325   -79.7811      246.0    ON        EGBERT 1 W     NaN   \n",
       "CQC00914080   15.2136   145.7497      252.1    MP    CAPITOL HILL 1     NaN   \n",
       "CQC00914801   14.1717   145.2428      179.2    MP           ROTA AP     NaN   \n",
       "\n",
       "            HCNFLAG    WMOID  \n",
       "ID                            \n",
       "AQC00914000     NaN      NaN  \n",
       "AQW00061705     GSN  91765.0  \n",
       "CAW00064757     NaN      NaN  \n",
       "CQC00914080     NaN      NaN  \n",
       "CQC00914801     NaN  91221.0  "
      ]
     },
     "execution_count": 5,
     "metadata": {},
     "output_type": "execute_result"
    }
   ],
   "source": [
    "station_df.head()"
   ]
  },
  {
   "cell_type": "code",
   "execution_count": null,
   "metadata": {
    "collapsed": true
   },
   "outputs": [],
   "source": [
    "\n",
    "    "
   ]
  }
 ],
 "metadata": {
  "kernelspec": {
   "display_name": "Python 2",
   "language": "python",
   "name": "python2"
  },
  "language_info": {
   "codemirror_mode": {
    "name": "ipython",
    "version": 2
   },
   "file_extension": ".py",
   "mimetype": "text/x-python",
   "name": "python",
   "nbconvert_exporter": "python",
   "pygments_lexer": "ipython2",
   "version": "2.7.8"
  }
 },
 "nbformat": 4,
 "nbformat_minor": 1
}
